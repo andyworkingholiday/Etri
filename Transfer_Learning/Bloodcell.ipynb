{
 "cells": [
  {
   "cell_type": "code",
   "execution_count": 16,
   "metadata": {
    "ExecuteTime": {
     "end_time": "2020-08-04T08:52:34.058553Z",
     "start_time": "2020-08-04T08:52:34.053655Z"
    },
    "scrolled": true
   },
   "outputs": [],
   "source": [
    "from tensorflow.keras import layers, models\n",
    "from tensorflow.keras.applications import VGG16\n",
    "from tensorflow.keras import Input\n",
    "from tensorflow.keras.models import Model\n",
    "from tensorflow.keras.preprocessing.image import ImageDataGenerator\n",
    "from tensorflow.keras import optimizers, initializers, regularizers, metrics\n",
    "from tensorflow.keras.callbacks import ModelCheckpoint\n",
    "import os\n",
    "from glob import glob\n",
    "from PIL import Image\n",
    "import matplotlib.pyplot as plt\n",
    "import numpy as np\n",
    "import math"
   ]
  },
  {
   "cell_type": "code",
   "execution_count": 17,
   "metadata": {
    "ExecuteTime": {
     "end_time": "2020-08-04T08:52:35.344484Z",
     "start_time": "2020-08-04T08:52:35.340998Z"
    }
   },
   "outputs": [],
   "source": [
    "train_datagen = ImageDataGenerator(rescale=1./255)\n",
    "val_datagen = ImageDataGenerator(rescale=1./255)\n",
    "test_datagen = ImageDataGenerator(rescale=1./255)"
   ]
  },
  {
   "cell_type": "code",
   "execution_count": 18,
   "metadata": {
    "ExecuteTime": {
     "end_time": "2020-08-04T08:52:35.912329Z",
     "start_time": "2020-08-04T08:52:35.905453Z"
    }
   },
   "outputs": [],
   "source": [
    "train_dir = os.path.join('./Data/Blood_Cell_Classification/images/TRAIN/')\n",
    "test_dir = os.path.join('./Data/Blood_Cell_Classification/images/TEST/')"
   ]
  },
  {
   "cell_type": "code",
   "execution_count": 19,
   "metadata": {
    "ExecuteTime": {
     "end_time": "2020-08-04T08:52:36.743631Z",
     "start_time": "2020-08-04T08:52:36.409840Z"
    }
   },
   "outputs": [],
   "source": [
    "train_generator = train_datagen.flow_from_directory(train_dir, batch_size=16, target_size=(220, 200), color_mode='rgb')"
   ]
  },
  {
   "cell_type": "code",
   "execution_count": 20,
   "metadata": {
    "ExecuteTime": {
     "end_time": "2020-08-04T08:52:37.091482Z",
     "start_time": "2020-08-04T08:52:36.983850Z"
    }
   },
   "outputs": [],
   "source": [
    "test_generator = test_datagen.flow_from_directory(test_dir, batch_size=16, target_size=(220, 200), color_mode='rgb')"
   ]
  },
  {
   "cell_type": "code",
   "execution_count": 21,
   "metadata": {
    "ExecuteTime": {
     "end_time": "2020-08-04T08:52:38.271070Z",
     "start_time": "2020-08-04T08:52:38.081019Z"
    }
   },
   "outputs": [],
   "source": [
    "input_tensor = Input(shape=(220, 200, 3), dtype='float32', name='input')"
   ]
  },
  {
   "cell_type": "code",
   "execution_count": 22,
   "metadata": {
    "ExecuteTime": {
     "end_time": "2020-08-04T08:52:39.840022Z",
     "start_time": "2020-08-04T08:52:38.857196Z"
    }
   },
   "outputs": [],
   "source": [
    "pre_trained_vgg = VGG16(weights='imagenet', include_top=False, input_shape=(220, 200, 3))\n",
    "pre_trained_vgg.trainable = False\n",
    "pre_trained_vgg.summary()"
   ]
  },
  {
   "cell_type": "code",
   "execution_count": 23,
   "metadata": {
    "ExecuteTime": {
     "end_time": "2020-08-04T08:52:45.765843Z",
     "start_time": "2020-08-04T08:52:45.356700Z"
    },
    "scrolled": true
   },
   "outputs": [],
   "source": [
    "additional_model = models.Sequential()\n",
    "additional_model.add(pre_trained_vgg)\n",
    "additional_model.add(layers.Flatten())\n",
    "additional_model.add(layers.Dense(4096, activation='relu'))\n",
    "additional_model.add(layers.Dense(2048, activation='relu'))\n",
    "additional_model.add(layers.Dense(1024, activation='relu'))\n",
    "additional_model.add(layers.Dense(4, activation='softmax'))\n",
    "additional_model.summary()"
   ]
  },
  {
   "cell_type": "code",
   "execution_count": 15,
   "metadata": {
    "ExecuteTime": {
     "end_time": "2020-08-04T08:30:46.146310Z",
     "start_time": "2020-08-04T07:19:59.644846Z"
    }
   },
   "outputs": [
    {
     "name": "stdout",
     "output_type": "stream",
     "text": [
      "Epoch 1/300\n",
      "623/623 [==============================] - 964s 2s/step - loss: 0.5432 - acc: 0.7911 - val_loss: 1.1546 - val_acc: 0.5340\n",
      "Epoch 2/300\n",
      "623/623 [==============================] - 976s 2s/step - loss: 0.3368 - acc: 0.8722 - val_loss: 1.4891 - val_acc: 0.5219\n",
      "Epoch 3/300\n",
      "623/623 [==============================] - 1001s 2s/step - loss: 0.2202 - acc: 0.9150 - val_loss: 1.3758 - val_acc: 0.5806\n",
      "Epoch 4/300\n",
      "623/623 [==============================] - 1031s 2s/step - loss: 0.1534 - acc: 0.9438 - val_loss: 1.6805 - val_acc: 0.5774\n",
      "Epoch 5/300\n",
      "201/623 [========>.....................] - ETA: 9:33 - loss: 0.1108 - acc: 0.9629"
     ]
    },
    {
     "name": "stderr",
     "output_type": "stream",
     "text": [
      "Process Keras_worker_ForkPoolWorker-82:\n",
      "Process Keras_worker_ForkPoolWorker-87:\n",
      "Process Keras_worker_ForkPoolWorker-85:\n",
      "Process Keras_worker_ForkPoolWorker-84:\n",
      "Process Keras_worker_ForkPoolWorker-83:\n",
      "Process Keras_worker_ForkPoolWorker-86:\n",
      "Process Keras_worker_ForkPoolWorker-88:\n",
      "Process Keras_worker_ForkPoolWorker-81:\n",
      "Traceback (most recent call last):\n",
      "  File \"/Home2/wbjin/.conda/envs/tf36/lib/python3.6/multiprocessing/process.py\", line 258, in _bootstrap\n",
      "    self.run()\n",
      "  File \"/Home2/wbjin/.conda/envs/tf36/lib/python3.6/multiprocessing/process.py\", line 93, in run\n",
      "    self._target(*self._args, **self._kwargs)\n",
      "  File \"/Home2/wbjin/.conda/envs/tf36/lib/python3.6/multiprocessing/pool.py\", line 108, in worker\n",
      "    task = get()\n",
      "  File \"/Home2/wbjin/.conda/envs/tf36/lib/python3.6/multiprocessing/queues.py\", line 335, in get\n",
      "    res = self._reader.recv_bytes()\n",
      "  File \"/Home2/wbjin/.conda/envs/tf36/lib/python3.6/multiprocessing/connection.py\", line 216, in recv_bytes\n",
      "    buf = self._recv_bytes(maxlength)\n",
      "  File \"/Home2/wbjin/.conda/envs/tf36/lib/python3.6/multiprocessing/connection.py\", line 407, in _recv_bytes\n",
      "    buf = self._recv(4)\n",
      "  File \"/Home2/wbjin/.conda/envs/tf36/lib/python3.6/multiprocessing/connection.py\", line 379, in _recv\n",
      "    chunk = read(handle, remaining)\n",
      "KeyboardInterrupt\n",
      "Traceback (most recent call last):\n",
      "Traceback (most recent call last):\n",
      "Traceback (most recent call last):\n"
     ]
    }
   ],
   "source": [
    "additional_model.compile(loss='categorical_crossentropy', optimizer=optimizers.RMSprop(lr=2e-5), metrics=['acc'])\n",
    "checkpoint = ModelCheckpoint(filepath='pretrained_VGG_weight.hdf5', \n",
    "            monitor='loss', \n",
    "            mode='min', \n",
    "            save_best_only=True)\n",
    "\n",
    "history = additional_model.fit_generator(train_generator, \n",
    "            steps_per_epoch=math.ceil(train_generator.n / train_generator.batch_size), \n",
    "            epochs=300, \n",
    "            validation_data=test_generator, \n",
    "            validation_steps=math.ceil(test_generator.n / test_generator.batch_size), \n",
    "            use_multiprocessing=True,                             \n",
    "            workers=8)"
   ]
  },
  {
   "cell_type": "code",
   "execution_count": null,
   "metadata": {},
   "outputs": [],
   "source": []
  }
 ],
 "metadata": {
  "kernelspec": {
   "display_name": "QT_Proj",
   "language": "python",
   "name": "tf36"
  },
  "language_info": {
   "codemirror_mode": {
    "name": "ipython",
    "version": 3
   },
   "file_extension": ".py",
   "mimetype": "text/x-python",
   "name": "python",
   "nbconvert_exporter": "python",
   "pygments_lexer": "ipython3",
   "version": "3.6.10"
  },
  "toc": {
   "base_numbering": 1,
   "nav_menu": {},
   "number_sections": true,
   "sideBar": true,
   "skip_h1_title": false,
   "title_cell": "Table of Contents",
   "title_sidebar": "Contents",
   "toc_cell": false,
   "toc_position": {},
   "toc_section_display": true,
   "toc_window_display": false
  }
 },
 "nbformat": 4,
 "nbformat_minor": 4
}
